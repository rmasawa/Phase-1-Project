{
 "cells": [
  {
   "cell_type": "markdown",
   "metadata": {},
   "source": [
    "## Determining which Aircratf are the Lowest Risk for the Company to start a new Business endeavor\n",
    "\n",
    "Please fill out:\n",
    "* Student name: Rodgers Otieno\n",
    "* Student pace: part time \n",
    "* Scheduled project review date/time: Teusday, $29^{th}$ April.  11.59pm\n",
    "* Instructor name: George Kamundia\n",
    "* Blog post URL:\n"
   ]
  },
  {
   "cell_type": "code",
   "execution_count": 332,
   "metadata": {},
   "outputs": [],
   "source": [
    "# Your code here - remember to use markdown cells for comments as well!"
   ]
  },
  {
   "cell_type": "markdown",
   "metadata": {},
   "source": [
    "**Table of Contents**\n",
    "\n",
    "1. [Introduction](#introduction)\n",
    "2. [Business Understanding](#businessunderstanding)\n",
    "3. [Libraries](#libraries)\n",
    "    - [Importing Libraries](#importinglibraries)\n",
    "    - [Loading Data Sets](#loading-data-Sets)\n",
    "4. [Understanding the Data](#contrUnderstandingthedata)\n",
    "5. [Data Processing](#dataprocessing)\n",
    "6. [Data Cleaning](#datacleaning)\n",
    "7. [Analysis](#analysis)\n",
    "8. [Recommendations](#recommendations)\n",
    "9. [Conclusion](#conclusion)"
   ]
  },
  {
   "cell_type": "code",
   "execution_count": null,
   "metadata": {},
   "outputs": [],
   "source": []
  },
  {
   "cell_type": "markdown",
   "metadata": {},
   "source": [
    "# Introduction\n",
    "The analysis aims to assess safety and operational risks across different aircraft models to help the company choose low-risk airplanes for its new aviation business. \n",
    "\n"
   ]
  },
  {
   "cell_type": "markdown",
   "metadata": {},
   "source": [
    "# Business Understanding\n",
    "___\n",
    "The  organization has embarked on industry expansion to achieve business diversification. The company wishes to acquire and manage aircraft for both commercial and private flight services yet remains unaware of aviation-related risks. The goal of this analysis includes finding the aircraft with the lowest potential risks to help your company launch its new aviation business. Primarily it is tasked with the responsibility of  presenting essential findings that will guide the new aviation division head in determining which aircraft will be most beneficial for acquisition."
   ]
  },
  {
   "cell_type": "markdown",
   "metadata": {},
   "source": [
    "# Libraries\n",
    "#### Importing Libraries"
   ]
  },
  {
   "cell_type": "code",
   "execution_count": 333,
   "metadata": {},
   "outputs": [],
   "source": [
    "# Importing Required Libraries for this project\n",
    "\n",
    "import pandas as pd\n",
    "import numpy as np\n",
    "import matplotlib.pyplot as plt\n",
    "import seaborn as sns\n",
    "\n",
    "%matplotlib inline"
   ]
  },
  {
   "cell_type": "markdown",
   "metadata": {},
   "source": [
    "#### Loading Data Sets"
   ]
  },
  {
   "cell_type": "code",
   "execution_count": 334,
   "metadata": {},
   "outputs": [],
   "source": [
    "# Load the Aviation Dataset\n",
    "# The data is stored in the df_Aviation variable\n",
    "\n",
    "df_Aviation = pd.read_csv('data/Aviation_Data.csv', low_memory=False)"
   ]
  },
  {
   "cell_type": "markdown",
   "metadata": {},
   "source": [
    "# Understanding the Data\n",
    "#### Understanding the Culumn and categorizing them twith respect to the required Analysis\n",
    "\n",
    "The Aviation Dataset enatails several features that can be attributed to aircraft accidents and those that are safety related. For instance;\n",
    "\n",
    "**Information about Events**\n",
    "\n",
    "- Event.ID\n",
    "- Unvestigation.Type\n",
    "- Accident.Number\n",
    "- Event.Date\n",
    "- Location, Country,Lattitude, Longitude\n",
    "- Airport.Code, Airport.Name\n",
    "- FAR.Description\n",
    "\n",
    "**Injury and Damage Information**\n",
    "- Injury.Severity\n",
    "- AirCraft.Damage\n",
    "- TOtal.Fatal.Injuries, Total.Serious.Injuries, Total.Minor.Injuries, Total.Uninjured\n",
    "\n",
    "**Aircraft and Flight Information**\n",
    "- Aircraft.Category\n",
    "- Registration.Number\n",
    "- Make, Model\n",
    "- Amateur.Built\n",
    "- Number.of.Engines, ENgine.Type\n",
    "- Schedule, Purpose.of.Flight\n",
    "\n",
    "**Flight COndition and Weather**\n",
    "- Weather.Condition\n",
    "- Broad.phase.of.flight"
   ]
  },
  {
   "cell_type": "markdown",
   "metadata": {},
   "source": [
    "#### Relevant Columns for Risk Analysis\n",
    "- Aircraft.Damage - This will determin how severe the accidents were which closely relates to the level risk associated with the specific aircrafts\n",
    "- Total.Fatal.Injuries, TOtal.Serious.Injuries, Total.Minor.Injuries - Provides into how safe an aircraft can be\n",
    "- Aircraft.Category - helps in identifying whether the aircraft is commercial or private which inturn helps in identifying the threshold of the risk We can also check the Purpose.of.flight Column\n",
    "- Make, Model -  Helps in analysziing Trends with rerspect to safety and performance among different aricrafts\n",
    "- Engine.Type - Helps to know if certain Engines have safety records\n",
    "- Weather.Condition - WIll be used to check if adverse weather conditions plays a role in causing accidents with respect to aircraft\n",
    "- Broad.phase.of.flight - will be used to identify if specific phases of a flight like landing or takeoff would be a potential risk for specific aircrafts"
   ]
  },
  {
   "cell_type": "markdown",
   "metadata": {},
   "source": [
    "#### Data Types"
   ]
  },
  {
   "cell_type": "code",
   "execution_count": 335,
   "metadata": {},
   "outputs": [
    {
     "name": "stdout",
     "output_type": "stream",
     "text": [
      "<class 'pandas.core.frame.DataFrame'>\n",
      "RangeIndex: 90348 entries, 0 to 90347\n",
      "Data columns (total 31 columns):\n",
      " #   Column                  Non-Null Count  Dtype  \n",
      "---  ------                  --------------  -----  \n",
      " 0   Event.Id                88889 non-null  object \n",
      " 1   Investigation.Type      90348 non-null  object \n",
      " 2   Accident.Number         88889 non-null  object \n",
      " 3   Event.Date              88889 non-null  object \n",
      " 4   Location                88837 non-null  object \n",
      " 5   Country                 88663 non-null  object \n",
      " 6   Latitude                34382 non-null  object \n",
      " 7   Longitude               34373 non-null  object \n",
      " 8   Airport.Code            50132 non-null  object \n",
      " 9   Airport.Name            52704 non-null  object \n",
      " 10  Injury.Severity         87889 non-null  object \n",
      " 11  Aircraft.damage         85695 non-null  object \n",
      " 12  Aircraft.Category       32287 non-null  object \n",
      " 13  Registration.Number     87507 non-null  object \n",
      " 14  Make                    88826 non-null  object \n",
      " 15  Model                   88797 non-null  object \n",
      " 16  Amateur.Built           88787 non-null  object \n",
      " 17  Number.of.Engines       82805 non-null  float64\n",
      " 18  Engine.Type             81793 non-null  object \n",
      " 19  FAR.Description         32023 non-null  object \n",
      " 20  Schedule                12582 non-null  object \n",
      " 21  Purpose.of.flight       82697 non-null  object \n",
      " 22  Air.carrier             16648 non-null  object \n",
      " 23  Total.Fatal.Injuries    77488 non-null  float64\n",
      " 24  Total.Serious.Injuries  76379 non-null  float64\n",
      " 25  Total.Minor.Injuries    76956 non-null  float64\n",
      " 26  Total.Uninjured         82977 non-null  float64\n",
      " 27  Weather.Condition       84397 non-null  object \n",
      " 28  Broad.phase.of.flight   61724 non-null  object \n",
      " 29  Report.Status           82505 non-null  object \n",
      " 30  Publication.Date        73659 non-null  object \n",
      "dtypes: float64(5), object(26)\n",
      "memory usage: 21.4+ MB\n"
     ]
    }
   ],
   "source": [
    "#check datatypes per column and the number of none null columns\n",
    "df_Aviation.info()"
   ]
  },
  {
   "cell_type": "markdown",
   "metadata": {},
   "source": [
    "#### Summary Statistics"
   ]
  },
  {
   "cell_type": "code",
   "execution_count": 336,
   "metadata": {},
   "outputs": [
    {
     "data": {
      "text/html": [
       "<div>\n",
       "<style scoped>\n",
       "    .dataframe tbody tr th:only-of-type {\n",
       "        vertical-align: middle;\n",
       "    }\n",
       "\n",
       "    .dataframe tbody tr th {\n",
       "        vertical-align: top;\n",
       "    }\n",
       "\n",
       "    .dataframe thead th {\n",
       "        text-align: right;\n",
       "    }\n",
       "</style>\n",
       "<table border=\"1\" class=\"dataframe\">\n",
       "  <thead>\n",
       "    <tr style=\"text-align: right;\">\n",
       "      <th></th>\n",
       "      <th>Number.of.Engines</th>\n",
       "      <th>Total.Fatal.Injuries</th>\n",
       "      <th>Total.Serious.Injuries</th>\n",
       "      <th>Total.Minor.Injuries</th>\n",
       "      <th>Total.Uninjured</th>\n",
       "    </tr>\n",
       "  </thead>\n",
       "  <tbody>\n",
       "    <tr>\n",
       "      <th>count</th>\n",
       "      <td>82805.000000</td>\n",
       "      <td>77488.000000</td>\n",
       "      <td>76379.000000</td>\n",
       "      <td>76956.000000</td>\n",
       "      <td>82977.000000</td>\n",
       "    </tr>\n",
       "    <tr>\n",
       "      <th>mean</th>\n",
       "      <td>1.146585</td>\n",
       "      <td>0.647855</td>\n",
       "      <td>0.279881</td>\n",
       "      <td>0.357061</td>\n",
       "      <td>5.325440</td>\n",
       "    </tr>\n",
       "    <tr>\n",
       "      <th>std</th>\n",
       "      <td>0.446510</td>\n",
       "      <td>5.485960</td>\n",
       "      <td>1.544084</td>\n",
       "      <td>2.235625</td>\n",
       "      <td>27.913634</td>\n",
       "    </tr>\n",
       "    <tr>\n",
       "      <th>min</th>\n",
       "      <td>0.000000</td>\n",
       "      <td>0.000000</td>\n",
       "      <td>0.000000</td>\n",
       "      <td>0.000000</td>\n",
       "      <td>0.000000</td>\n",
       "    </tr>\n",
       "    <tr>\n",
       "      <th>25%</th>\n",
       "      <td>1.000000</td>\n",
       "      <td>0.000000</td>\n",
       "      <td>0.000000</td>\n",
       "      <td>0.000000</td>\n",
       "      <td>0.000000</td>\n",
       "    </tr>\n",
       "    <tr>\n",
       "      <th>50%</th>\n",
       "      <td>1.000000</td>\n",
       "      <td>0.000000</td>\n",
       "      <td>0.000000</td>\n",
       "      <td>0.000000</td>\n",
       "      <td>1.000000</td>\n",
       "    </tr>\n",
       "    <tr>\n",
       "      <th>75%</th>\n",
       "      <td>1.000000</td>\n",
       "      <td>0.000000</td>\n",
       "      <td>0.000000</td>\n",
       "      <td>0.000000</td>\n",
       "      <td>2.000000</td>\n",
       "    </tr>\n",
       "    <tr>\n",
       "      <th>max</th>\n",
       "      <td>8.000000</td>\n",
       "      <td>349.000000</td>\n",
       "      <td>161.000000</td>\n",
       "      <td>380.000000</td>\n",
       "      <td>699.000000</td>\n",
       "    </tr>\n",
       "  </tbody>\n",
       "</table>\n",
       "</div>"
      ],
      "text/plain": [
       "       Number.of.Engines  Total.Fatal.Injuries  Total.Serious.Injuries  \\\n",
       "count       82805.000000          77488.000000            76379.000000   \n",
       "mean            1.146585              0.647855                0.279881   \n",
       "std             0.446510              5.485960                1.544084   \n",
       "min             0.000000              0.000000                0.000000   \n",
       "25%             1.000000              0.000000                0.000000   \n",
       "50%             1.000000              0.000000                0.000000   \n",
       "75%             1.000000              0.000000                0.000000   \n",
       "max             8.000000            349.000000              161.000000   \n",
       "\n",
       "       Total.Minor.Injuries  Total.Uninjured  \n",
       "count          76956.000000     82977.000000  \n",
       "mean               0.357061         5.325440  \n",
       "std                2.235625        27.913634  \n",
       "min                0.000000         0.000000  \n",
       "25%                0.000000         0.000000  \n",
       "50%                0.000000         1.000000  \n",
       "75%                0.000000         2.000000  \n",
       "max              380.000000       699.000000  "
      ]
     },
     "execution_count": 336,
     "metadata": {},
     "output_type": "execute_result"
    }
   ],
   "source": [
    "# Summary statistics like count, mean mode and median and std deviation for float and interger columns\n",
    "df_Aviation.describe()"
   ]
  },
  {
   "cell_type": "markdown",
   "metadata": {},
   "source": [
    "#### Examine the first 5 rows of the dataframe"
   ]
  },
  {
   "cell_type": "code",
   "execution_count": 337,
   "metadata": {},
   "outputs": [
    {
     "data": {
      "text/html": [
       "<div>\n",
       "<style scoped>\n",
       "    .dataframe tbody tr th:only-of-type {\n",
       "        vertical-align: middle;\n",
       "    }\n",
       "\n",
       "    .dataframe tbody tr th {\n",
       "        vertical-align: top;\n",
       "    }\n",
       "\n",
       "    .dataframe thead th {\n",
       "        text-align: right;\n",
       "    }\n",
       "</style>\n",
       "<table border=\"1\" class=\"dataframe\">\n",
       "  <thead>\n",
       "    <tr style=\"text-align: right;\">\n",
       "      <th></th>\n",
       "      <th>Event.Id</th>\n",
       "      <th>Investigation.Type</th>\n",
       "      <th>Accident.Number</th>\n",
       "      <th>Event.Date</th>\n",
       "      <th>Location</th>\n",
       "      <th>Country</th>\n",
       "      <th>Latitude</th>\n",
       "      <th>Longitude</th>\n",
       "      <th>Airport.Code</th>\n",
       "      <th>Airport.Name</th>\n",
       "      <th>Injury.Severity</th>\n",
       "      <th>Aircraft.damage</th>\n",
       "      <th>Aircraft.Category</th>\n",
       "      <th>Registration.Number</th>\n",
       "      <th>Make</th>\n",
       "      <th>Model</th>\n",
       "      <th>Amateur.Built</th>\n",
       "      <th>Number.of.Engines</th>\n",
       "      <th>Engine.Type</th>\n",
       "      <th>FAR.Description</th>\n",
       "      <th>Schedule</th>\n",
       "      <th>Purpose.of.flight</th>\n",
       "      <th>Air.carrier</th>\n",
       "      <th>Total.Fatal.Injuries</th>\n",
       "      <th>Total.Serious.Injuries</th>\n",
       "      <th>Total.Minor.Injuries</th>\n",
       "      <th>Total.Uninjured</th>\n",
       "      <th>Weather.Condition</th>\n",
       "      <th>Broad.phase.of.flight</th>\n",
       "      <th>Report.Status</th>\n",
       "      <th>Publication.Date</th>\n",
       "    </tr>\n",
       "  </thead>\n",
       "  <tbody>\n",
       "    <tr>\n",
       "      <th>0</th>\n",
       "      <td>20001218X45444</td>\n",
       "      <td>Accident</td>\n",
       "      <td>SEA87LA080</td>\n",
       "      <td>1948-10-24</td>\n",
       "      <td>MOOSE CREEK, ID</td>\n",
       "      <td>United States</td>\n",
       "      <td>NaN</td>\n",
       "      <td>NaN</td>\n",
       "      <td>NaN</td>\n",
       "      <td>NaN</td>\n",
       "      <td>Fatal(2)</td>\n",
       "      <td>Destroyed</td>\n",
       "      <td>NaN</td>\n",
       "      <td>NC6404</td>\n",
       "      <td>Stinson</td>\n",
       "      <td>108-3</td>\n",
       "      <td>No</td>\n",
       "      <td>1.0</td>\n",
       "      <td>Reciprocating</td>\n",
       "      <td>NaN</td>\n",
       "      <td>NaN</td>\n",
       "      <td>Personal</td>\n",
       "      <td>NaN</td>\n",
       "      <td>2.0</td>\n",
       "      <td>0.0</td>\n",
       "      <td>0.0</td>\n",
       "      <td>0.0</td>\n",
       "      <td>UNK</td>\n",
       "      <td>Cruise</td>\n",
       "      <td>Probable Cause</td>\n",
       "      <td>NaN</td>\n",
       "    </tr>\n",
       "    <tr>\n",
       "      <th>1</th>\n",
       "      <td>20001218X45447</td>\n",
       "      <td>Accident</td>\n",
       "      <td>LAX94LA336</td>\n",
       "      <td>1962-07-19</td>\n",
       "      <td>BRIDGEPORT, CA</td>\n",
       "      <td>United States</td>\n",
       "      <td>NaN</td>\n",
       "      <td>NaN</td>\n",
       "      <td>NaN</td>\n",
       "      <td>NaN</td>\n",
       "      <td>Fatal(4)</td>\n",
       "      <td>Destroyed</td>\n",
       "      <td>NaN</td>\n",
       "      <td>N5069P</td>\n",
       "      <td>Piper</td>\n",
       "      <td>PA24-180</td>\n",
       "      <td>No</td>\n",
       "      <td>1.0</td>\n",
       "      <td>Reciprocating</td>\n",
       "      <td>NaN</td>\n",
       "      <td>NaN</td>\n",
       "      <td>Personal</td>\n",
       "      <td>NaN</td>\n",
       "      <td>4.0</td>\n",
       "      <td>0.0</td>\n",
       "      <td>0.0</td>\n",
       "      <td>0.0</td>\n",
       "      <td>UNK</td>\n",
       "      <td>Unknown</td>\n",
       "      <td>Probable Cause</td>\n",
       "      <td>19-09-1996</td>\n",
       "    </tr>\n",
       "    <tr>\n",
       "      <th>2</th>\n",
       "      <td>20061025X01555</td>\n",
       "      <td>Accident</td>\n",
       "      <td>NYC07LA005</td>\n",
       "      <td>1974-08-30</td>\n",
       "      <td>Saltville, VA</td>\n",
       "      <td>United States</td>\n",
       "      <td>36.922223</td>\n",
       "      <td>-81.878056</td>\n",
       "      <td>NaN</td>\n",
       "      <td>NaN</td>\n",
       "      <td>Fatal(3)</td>\n",
       "      <td>Destroyed</td>\n",
       "      <td>NaN</td>\n",
       "      <td>N5142R</td>\n",
       "      <td>Cessna</td>\n",
       "      <td>172M</td>\n",
       "      <td>No</td>\n",
       "      <td>1.0</td>\n",
       "      <td>Reciprocating</td>\n",
       "      <td>NaN</td>\n",
       "      <td>NaN</td>\n",
       "      <td>Personal</td>\n",
       "      <td>NaN</td>\n",
       "      <td>3.0</td>\n",
       "      <td>NaN</td>\n",
       "      <td>NaN</td>\n",
       "      <td>NaN</td>\n",
       "      <td>IMC</td>\n",
       "      <td>Cruise</td>\n",
       "      <td>Probable Cause</td>\n",
       "      <td>26-02-2007</td>\n",
       "    </tr>\n",
       "    <tr>\n",
       "      <th>3</th>\n",
       "      <td>20001218X45448</td>\n",
       "      <td>Accident</td>\n",
       "      <td>LAX96LA321</td>\n",
       "      <td>1977-06-19</td>\n",
       "      <td>EUREKA, CA</td>\n",
       "      <td>United States</td>\n",
       "      <td>NaN</td>\n",
       "      <td>NaN</td>\n",
       "      <td>NaN</td>\n",
       "      <td>NaN</td>\n",
       "      <td>Fatal(2)</td>\n",
       "      <td>Destroyed</td>\n",
       "      <td>NaN</td>\n",
       "      <td>N1168J</td>\n",
       "      <td>Rockwell</td>\n",
       "      <td>112</td>\n",
       "      <td>No</td>\n",
       "      <td>1.0</td>\n",
       "      <td>Reciprocating</td>\n",
       "      <td>NaN</td>\n",
       "      <td>NaN</td>\n",
       "      <td>Personal</td>\n",
       "      <td>NaN</td>\n",
       "      <td>2.0</td>\n",
       "      <td>0.0</td>\n",
       "      <td>0.0</td>\n",
       "      <td>0.0</td>\n",
       "      <td>IMC</td>\n",
       "      <td>Cruise</td>\n",
       "      <td>Probable Cause</td>\n",
       "      <td>12-09-2000</td>\n",
       "    </tr>\n",
       "    <tr>\n",
       "      <th>4</th>\n",
       "      <td>20041105X01764</td>\n",
       "      <td>Accident</td>\n",
       "      <td>CHI79FA064</td>\n",
       "      <td>1979-08-02</td>\n",
       "      <td>Canton, OH</td>\n",
       "      <td>United States</td>\n",
       "      <td>NaN</td>\n",
       "      <td>NaN</td>\n",
       "      <td>NaN</td>\n",
       "      <td>NaN</td>\n",
       "      <td>Fatal(1)</td>\n",
       "      <td>Destroyed</td>\n",
       "      <td>NaN</td>\n",
       "      <td>N15NY</td>\n",
       "      <td>Cessna</td>\n",
       "      <td>501</td>\n",
       "      <td>No</td>\n",
       "      <td>NaN</td>\n",
       "      <td>NaN</td>\n",
       "      <td>NaN</td>\n",
       "      <td>NaN</td>\n",
       "      <td>Personal</td>\n",
       "      <td>NaN</td>\n",
       "      <td>1.0</td>\n",
       "      <td>2.0</td>\n",
       "      <td>NaN</td>\n",
       "      <td>0.0</td>\n",
       "      <td>VMC</td>\n",
       "      <td>Approach</td>\n",
       "      <td>Probable Cause</td>\n",
       "      <td>16-04-1980</td>\n",
       "    </tr>\n",
       "  </tbody>\n",
       "</table>\n",
       "</div>"
      ],
      "text/plain": [
       "         Event.Id Investigation.Type Accident.Number  Event.Date  \\\n",
       "0  20001218X45444           Accident      SEA87LA080  1948-10-24   \n",
       "1  20001218X45447           Accident      LAX94LA336  1962-07-19   \n",
       "2  20061025X01555           Accident      NYC07LA005  1974-08-30   \n",
       "3  20001218X45448           Accident      LAX96LA321  1977-06-19   \n",
       "4  20041105X01764           Accident      CHI79FA064  1979-08-02   \n",
       "\n",
       "          Location        Country   Latitude   Longitude Airport.Code  \\\n",
       "0  MOOSE CREEK, ID  United States        NaN         NaN          NaN   \n",
       "1   BRIDGEPORT, CA  United States        NaN         NaN          NaN   \n",
       "2    Saltville, VA  United States  36.922223  -81.878056          NaN   \n",
       "3       EUREKA, CA  United States        NaN         NaN          NaN   \n",
       "4       Canton, OH  United States        NaN         NaN          NaN   \n",
       "\n",
       "  Airport.Name Injury.Severity Aircraft.damage Aircraft.Category  \\\n",
       "0          NaN        Fatal(2)       Destroyed               NaN   \n",
       "1          NaN        Fatal(4)       Destroyed               NaN   \n",
       "2          NaN        Fatal(3)       Destroyed               NaN   \n",
       "3          NaN        Fatal(2)       Destroyed               NaN   \n",
       "4          NaN        Fatal(1)       Destroyed               NaN   \n",
       "\n",
       "  Registration.Number      Make     Model Amateur.Built  Number.of.Engines  \\\n",
       "0              NC6404   Stinson     108-3            No                1.0   \n",
       "1              N5069P     Piper  PA24-180            No                1.0   \n",
       "2              N5142R    Cessna      172M            No                1.0   \n",
       "3              N1168J  Rockwell       112            No                1.0   \n",
       "4               N15NY    Cessna       501            No                NaN   \n",
       "\n",
       "     Engine.Type FAR.Description Schedule Purpose.of.flight Air.carrier  \\\n",
       "0  Reciprocating             NaN      NaN          Personal         NaN   \n",
       "1  Reciprocating             NaN      NaN          Personal         NaN   \n",
       "2  Reciprocating             NaN      NaN          Personal         NaN   \n",
       "3  Reciprocating             NaN      NaN          Personal         NaN   \n",
       "4            NaN             NaN      NaN          Personal         NaN   \n",
       "\n",
       "   Total.Fatal.Injuries  Total.Serious.Injuries  Total.Minor.Injuries  \\\n",
       "0                   2.0                     0.0                   0.0   \n",
       "1                   4.0                     0.0                   0.0   \n",
       "2                   3.0                     NaN                   NaN   \n",
       "3                   2.0                     0.0                   0.0   \n",
       "4                   1.0                     2.0                   NaN   \n",
       "\n",
       "   Total.Uninjured Weather.Condition Broad.phase.of.flight   Report.Status  \\\n",
       "0              0.0               UNK                Cruise  Probable Cause   \n",
       "1              0.0               UNK               Unknown  Probable Cause   \n",
       "2              NaN               IMC                Cruise  Probable Cause   \n",
       "3              0.0               IMC                Cruise  Probable Cause   \n",
       "4              0.0               VMC              Approach  Probable Cause   \n",
       "\n",
       "  Publication.Date  \n",
       "0              NaN  \n",
       "1       19-09-1996  \n",
       "2       26-02-2007  \n",
       "3       12-09-2000  \n",
       "4       16-04-1980  "
      ]
     },
     "execution_count": 337,
     "metadata": {},
     "output_type": "execute_result"
    }
   ],
   "source": [
    "# Set display option to show all columns\n",
    "pd.set_option('display.max_columns', None)\n",
    "df_Aviation.head(5)\n"
   ]
  },
  {
   "cell_type": "code",
   "execution_count": 338,
   "metadata": {},
   "outputs": [
    {
     "data": {
      "text/plain": [
       "np.int64(1522)"
      ]
     },
     "execution_count": 338,
     "metadata": {},
     "output_type": "execute_result"
    }
   ],
   "source": [
    "#f_Aviation[df_Aviation['Model' , 'Make'] == Nan]\n",
    "df_Aviation.sort_values(by = 'Make', ascending=False)\n",
    "# df_Aviation[['Make', 'Model']]\n",
    "df_Aviation['Make'].isna().sum()"
   ]
  },
  {
   "cell_type": "markdown",
   "metadata": {},
   "source": [
    "### Column Names"
   ]
  },
  {
   "cell_type": "code",
   "execution_count": 339,
   "metadata": {},
   "outputs": [
    {
     "name": "stdout",
     "output_type": "stream",
     "text": [
      "Index(['Event.Id', 'Investigation.Type', 'Accident.Number', 'Event.Date',\n",
      "       'Location', 'Country', 'Latitude', 'Longitude', 'Airport.Code',\n",
      "       'Airport.Name', 'Injury.Severity', 'Aircraft.damage',\n",
      "       'Aircraft.Category', 'Registration.Number', 'Make', 'Model',\n",
      "       'Amateur.Built', 'Number.of.Engines', 'Engine.Type', 'FAR.Description',\n",
      "       'Schedule', 'Purpose.of.flight', 'Air.carrier', 'Total.Fatal.Injuries',\n",
      "       'Total.Serious.Injuries', 'Total.Minor.Injuries', 'Total.Uninjured',\n",
      "       'Weather.Condition', 'Broad.phase.of.flight', 'Report.Status',\n",
      "       'Publication.Date'],\n",
      "      dtype='object')\n",
      "\n"
     ]
    },
    {
     "data": {
      "text/plain": [
       "(90348, 31)"
      ]
     },
     "execution_count": 339,
     "metadata": {},
     "output_type": "execute_result"
    }
   ],
   "source": [
    "#Check column names\n",
    "print(df_Aviation.columns)\n",
    "\n",
    "print()\n",
    "\n",
    "#Check dataframe shape\n",
    "\n",
    "df_Aviation.shape\n",
    "\n"
   ]
  },
  {
   "cell_type": "markdown",
   "metadata": {},
   "source": [
    "# Data Cleaning\n",
    "#### Filter the data to the columns that are required for this analysis then drop null values"
   ]
  },
  {
   "cell_type": "code",
   "execution_count": 340,
   "metadata": {},
   "outputs": [
    {
     "name": "stdout",
     "output_type": "stream",
     "text": [
      "Aircraft.damage            5.150086\n",
      "Make                       1.684597\n",
      "Model                      1.716695\n",
      "Engine.Type                9.468942\n",
      "Purpose.of.flight          8.468367\n",
      "Total.Fatal.Injuries      14.233851\n",
      "Total.Serious.Injuries    15.461327\n",
      "Total.Minor.Injuries      14.822686\n",
      "Weather.Condition          6.586753\n",
      "Broad.phase.of.flight     31.681941\n",
      "dtype: float64\n",
      "\n",
      "(90348, 10)\n"
     ]
    }
   ],
   "source": [
    "# Filter Required Columns\n",
    "df_Aviation_Risk_Analysis_Data = df_Aviation[['Aircraft.damage','Make', 'Model', 'Engine.Type', 'Purpose.of.flight', 'Total.Fatal.Injuries', 'Total.Serious.Injuries', 'Total.Minor.Injuries', 'Weather.Condition', 'Broad.phase.of.flight']]\n",
    "\n",
    "#Check percentage og Missing Values per Column\n",
    "print(df_Aviation_Risk_Analysis_Data.isnull().mean()*100)\n",
    "\n",
    "print()\n",
    "\n",
    "#Print Shape od the new dataframe\n",
    "print(df_Aviation_Risk_Analysis_Data.shape)"
   ]
  },
  {
   "cell_type": "markdown",
   "metadata": {},
   "source": [
    "#### Since the data requires an analysis of the low cost air crafts to purchase. Make and Model will be higly used"
   ]
  },
  {
   "cell_type": "code",
   "execution_count": 341,
   "metadata": {},
   "outputs": [
    {
     "name": "stdout",
     "output_type": "stream",
     "text": [
      "The number of missing values in the Make Column are: 1522\n",
      "The number of missing values in the Model Column are: 1551\n"
     ]
    }
   ],
   "source": [
    "#check the number of missing values in Make and Model\n",
    "\n",
    "#missing values in Make column\n",
    "print(f'The number of missing values in the Make Column are:', df_Aviation_Risk_Analysis_Data['Make'].isna().sum())\n",
    "\n",
    "#Missing values in Model COlumn\n",
    "print(f'The number of missing values in the Model Column are:', df_Aviation_Risk_Analysis_Data['Model'].isna().sum())\n"
   ]
  },
  {
   "cell_type": "markdown",
   "metadata": {},
   "source": [
    "### 1. Clean Make and Model Column"
   ]
  },
  {
   "cell_type": "code",
   "execution_count": 342,
   "metadata": {},
   "outputs": [],
   "source": [
    "#Drop null values in the make and Model Columns\n",
    "df_Aviation_Risk_Analysis_Data = df_Aviation_Risk_Analysis_Data.dropna(subset=['Model','Make'], axis=0)"
   ]
  },
  {
   "cell_type": "code",
   "execution_count": 343,
   "metadata": {},
   "outputs": [
    {
     "data": {
      "text/plain": [
       "Aircraft.damage            3172\n",
       "Make                          0\n",
       "Model                         0\n",
       "Engine.Type                7025\n",
       "Purpose.of.flight          6138\n",
       "Total.Fatal.Injuries      11386\n",
       "Total.Serious.Injuries    12490\n",
       "Total.Minor.Injuries      11914\n",
       "Weather.Condition          4439\n",
       "Broad.phase.of.flight     27094\n",
       "dtype: int64"
      ]
     },
     "execution_count": 343,
     "metadata": {},
     "output_type": "execute_result"
    }
   ],
   "source": [
    "#Check culumns with null values in the new dataframe\n",
    "df_Aviation_Risk_Analysis_Data.isna().sum()"
   ]
  },
  {
   "cell_type": "code",
   "execution_count": 344,
   "metadata": {},
   "outputs": [
    {
     "data": {
      "text/plain": [
       "Aircraft.damage           85605\n",
       "Make                      88777\n",
       "Model                     88777\n",
       "Engine.Type               81752\n",
       "Purpose.of.flight         82639\n",
       "Total.Fatal.Injuries      77391\n",
       "Total.Serious.Injuries    76287\n",
       "Total.Minor.Injuries      76863\n",
       "Weather.Condition         84338\n",
       "Broad.phase.of.flight     61683\n",
       "dtype: int64"
      ]
     },
     "execution_count": 344,
     "metadata": {},
     "output_type": "execute_result"
    }
   ],
   "source": [
    "df_Aviation_Risk_Analysis_Data.count()"
   ]
  },
  {
   "cell_type": "markdown",
   "metadata": {},
   "source": [
    "#### 2. CLean Aircraft.damage Column"
   ]
  },
  {
   "cell_type": "code",
   "execution_count": 345,
   "metadata": {},
   "outputs": [
    {
     "data": {
      "text/plain": [
       "array(['Destroyed', 'Substantial', 'Minor', nan, 'Unknown'], dtype=object)"
      ]
     },
     "execution_count": 345,
     "metadata": {},
     "output_type": "execute_result"
    }
   ],
   "source": [
    "#Check categorical Data in Aircraft.damage\n",
    "df_Aviation_Risk_Analysis_Data['Aircraft.damage'].unique()"
   ]
  },
  {
   "cell_type": "markdown",
   "metadata": {},
   "source": [
    "- The Aircraft.damage column has a nan and Unkown Column.\n",
    "- Impute the nan with Unkown"
   ]
  },
  {
   "cell_type": "code",
   "execution_count": 346,
   "metadata": {},
   "outputs": [],
   "source": [
    "#Impute nan with Unkown\n",
    "df_Aviation_Risk_Analysis_Data['Aircraft.damage'] = df_Aviation_Risk_Analysis_Data['Aircraft.damage'].fillna(\"Unknown\")"
   ]
  },
  {
   "cell_type": "code",
   "execution_count": 347,
   "metadata": {},
   "outputs": [
    {
     "data": {
      "text/plain": [
       "array(['Destroyed', 'Substantial', 'Minor', 'Unknown'], dtype=object)"
      ]
     },
     "execution_count": 347,
     "metadata": {},
     "output_type": "execute_result"
    }
   ],
   "source": [
    "df_Aviation_Risk_Analysis_Data['Aircraft.damage'].unique()"
   ]
  },
  {
   "cell_type": "markdown",
   "metadata": {},
   "source": [
    "##### 3. Clean Broad.phase.of.flight Column"
   ]
  },
  {
   "cell_type": "code",
   "execution_count": 348,
   "metadata": {},
   "outputs": [
    {
     "data": {
      "text/plain": [
       "array(['Cruise', 'Unknown', 'Approach', 'Climb', 'Takeoff', 'Landing',\n",
       "       'Taxi', 'Descent', 'Maneuvering', 'Standing', 'Go-around', 'Other',\n",
       "       nan], dtype=object)"
      ]
     },
     "execution_count": 348,
     "metadata": {},
     "output_type": "execute_result"
    }
   ],
   "source": [
    "#Check categorical Data in Broad.phase.of.flight\n",
    "df_Aviation_Risk_Analysis_Data['Broad.phase.of.flight'].unique()"
   ]
  },
  {
   "cell_type": "code",
   "execution_count": 349,
   "metadata": {},
   "outputs": [],
   "source": [
    "# Impute Impute Unknown, Other and nan with Unkown\n",
    "df_Aviation_Risk_Analysis_Data['Broad.phase.of.flight']=df_Aviation_Risk_Analysis_Data['Broad.phase.of.flight'].fillna('Unknown')\n",
    "\n",
    "#Replace the values of Other to Unkown\n",
    "df_Aviation_Risk_Analysis_Data['Broad.phase.of.flight']=df_Aviation_Risk_Analysis_Data['Broad.phase.of.flight'].replace('Other', 'Unknown')\n"
   ]
  },
  {
   "cell_type": "markdown",
   "metadata": {},
   "source": [
    "#### 5. Clean Weather.Condition"
   ]
  },
  {
   "cell_type": "code",
   "execution_count": 350,
   "metadata": {},
   "outputs": [
    {
     "data": {
      "text/plain": [
       "array(['UNK', 'IMC', 'VMC', nan, 'Unk'], dtype=object)"
      ]
     },
     "execution_count": 350,
     "metadata": {},
     "output_type": "execute_result"
    }
   ],
   "source": [
    "#CHeck categorical data in Weather Condition\n",
    "df_Aviation_Risk_Analysis_Data['Weather.Condition'].unique()"
   ]
  },
  {
   "cell_type": "code",
   "execution_count": 351,
   "metadata": {},
   "outputs": [],
   "source": [
    "# Impute the nan and UnK with UNK meaning unkown\n",
    "df_Aviation_Risk_Analysis_Data['Weather.Condition'] = df_Aviation_Risk_Analysis_Data['Weather.Condition'].fillna('UNK')\n",
    "df_Aviation_Risk_Analysis_Data['Weather.Condition'] = df_Aviation_Risk_Analysis_Data['Weather.Condition'].replace('Unk', 'UNK')"
   ]
  },
  {
   "cell_type": "markdown",
   "metadata": {},
   "source": [
    "#### 6. Clean Engine.Type"
   ]
  },
  {
   "cell_type": "code",
   "execution_count": 352,
   "metadata": {},
   "outputs": [
    {
     "data": {
      "text/plain": [
       "array(['Reciprocating', nan, 'Turbo Fan', 'Turbo Shaft', 'Unknown',\n",
       "       'Turbo Prop', 'Turbo Jet', 'Electric', 'Hybrid Rocket',\n",
       "       'Geared Turbofan', 'LR', 'NONE', 'UNK'], dtype=object)"
      ]
     },
     "execution_count": 352,
     "metadata": {},
     "output_type": "execute_result"
    }
   ],
   "source": [
    "df_Aviation_Risk_Analysis_Data['Engine.Type'].unique()"
   ]
  },
  {
   "cell_type": "code",
   "execution_count": 353,
   "metadata": {},
   "outputs": [],
   "source": [
    "#Impute nan with Unkown\n",
    "df_Aviation_Risk_Analysis_Data['Engine.Type'] = df_Aviation_Risk_Analysis_Data['Engine.Type'].fillna('Unknown')\n",
    "\n",
    "# Replace NONE and UNK with Unkown\n",
    "df_Aviation_Risk_Analysis_Data['Engine.Type'] = df_Aviation_Risk_Analysis_Data['Engine.Type'].replace('NONE', 'Unknown')\n",
    "df_Aviation_Risk_Analysis_Data['Engine.Type'] = df_Aviation_Risk_Analysis_Data['Engine.Type'].replace('UNK', 'Unknown')"
   ]
  },
  {
   "cell_type": "markdown",
   "metadata": {},
   "source": [
    "#### 7. Clean Purpose.of.flight"
   ]
  },
  {
   "cell_type": "code",
   "execution_count": 354,
   "metadata": {},
   "outputs": [
    {
     "data": {
      "text/plain": [
       "array(['Personal', nan, 'Business', 'Instructional', 'Unknown', 'Ferry',\n",
       "       'Executive/corporate', 'Aerial Observation', 'Aerial Application',\n",
       "       'Public Aircraft', 'Skydiving', 'Other Work Use', 'Positioning',\n",
       "       'Flight Test', 'Air Race/show', 'Air Drop',\n",
       "       'Public Aircraft - Federal', 'Glider Tow',\n",
       "       'Public Aircraft - Local', 'External Load',\n",
       "       'Public Aircraft - State', 'Banner Tow', 'Firefighting',\n",
       "       'Air Race show', 'PUBS', 'ASHO', 'PUBL'], dtype=object)"
      ]
     },
     "execution_count": 354,
     "metadata": {},
     "output_type": "execute_result"
    }
   ],
   "source": [
    "#CHeck unique values Purpose.of.flight\n",
    "df_Aviation_Risk_Analysis_Data['Purpose.of.flight'].unique()"
   ]
  },
  {
   "cell_type": "code",
   "execution_count": 355,
   "metadata": {},
   "outputs": [],
   "source": [
    "#Impute nan with Unkown\n",
    "df_Aviation_Risk_Analysis_Data['Purpose.of.flight'] = df_Aviation_Risk_Analysis_Data['Purpose.of.flight'].fillna('Unknown')"
   ]
  },
  {
   "cell_type": "markdown",
   "metadata": {},
   "source": [
    "#### 8. Clean Total.Fatal.Injuries, Total.Serious.Injuries, Total.Minor.Injuries"
   ]
  },
  {
   "cell_type": "code",
   "execution_count": 356,
   "metadata": {},
   "outputs": [],
   "source": [
    "#Impute the Columns with Mode\n",
    "\n",
    "#Total.Fatal.Injuries\n",
    "tfi = df_Aviation_Risk_Analysis_Data['Total.Fatal.Injuries'].mode()[0]\n",
    "df_Aviation_Risk_Analysis_Data['Total.Fatal.Injuries'] = df_Aviation_Risk_Analysis_Data['Total.Fatal.Injuries'].fillna(tfi)\n",
    "\n",
    "#Total.Serious.Injuries\n",
    "tsi = df_Aviation_Risk_Analysis_Data['Total.Serious.Injuries'].mode()[0]\n",
    "df_Aviation_Risk_Analysis_Data['Total.Serious.Injuries'] = df_Aviation_Risk_Analysis_Data['Total.Serious.Injuries'].fillna(tsi)\n",
    "\n",
    "#Total.Minor.Injuries\n",
    "tmi = df_Aviation_Risk_Analysis_Data['Total.Minor.Injuries'].mode()[0]\n",
    "df_Aviation_Risk_Analysis_Data['Total.Minor.Injuries'] = df_Aviation_Risk_Analysis_Data['Total.Minor.Injuries'].fillna(tmi)"
   ]
  },
  {
   "cell_type": "code",
   "execution_count": 357,
   "metadata": {},
   "outputs": [
    {
     "name": "stdout",
     "output_type": "stream",
     "text": [
      "<class 'pandas.core.frame.DataFrame'>\n",
      "Index: 88777 entries, 0 to 90347\n",
      "Data columns (total 10 columns):\n",
      " #   Column                  Non-Null Count  Dtype  \n",
      "---  ------                  --------------  -----  \n",
      " 0   Aircraft.damage         88777 non-null  object \n",
      " 1   Make                    88777 non-null  object \n",
      " 2   Model                   88777 non-null  object \n",
      " 3   Engine.Type             88777 non-null  object \n",
      " 4   Purpose.of.flight       88777 non-null  object \n",
      " 5   Total.Fatal.Injuries    88777 non-null  float64\n",
      " 6   Total.Serious.Injuries  88777 non-null  float64\n",
      " 7   Total.Minor.Injuries    88777 non-null  float64\n",
      " 8   Weather.Condition       88777 non-null  object \n",
      " 9   Broad.phase.of.flight   88777 non-null  object \n",
      "dtypes: float64(3), object(7)\n",
      "memory usage: 7.5+ MB\n"
     ]
    }
   ],
   "source": [
    "df_Aviation_Risk_Analysis_Data.info()"
   ]
  },
  {
   "cell_type": "markdown",
   "metadata": {},
   "source": [
    "# Analysis\n"
   ]
  },
  {
   "cell_type": "markdown",
   "metadata": {},
   "source": [
    "#### 1. The Most Common Aircraft Makes that are prone to accidents"
   ]
  },
  {
   "cell_type": "code",
   "execution_count": 358,
   "metadata": {},
   "outputs": [
    {
     "data": {
      "image/png": "[encoded data removed]",
      "text/plain": [
       "<Figure size 1000x500 with 1 Axes>"
      ]
     },
     "metadata": {},
     "output_type": "display_data"
    }
   ],
   "source": [
    "#top_makes_models = df_Aviation_Risk_Analysis_Data['Make'].value_counts().head(10)\n",
    "\n",
    "plt.figure(figsize=(10,5))\n",
    "sns.barplot(x=top_makes_models.index, y=top_makes_models.values)\n",
    "plt.title(\"Top 10 Aircraft Manufacturers in Accidents\")\n",
    "plt.ylabel(\"Number of Accidents\")\n",
    "plt.xlabel(\"Aircraft Make\")\n",
    "plt.show()"
   ]
  },
  {
   "cell_type": "markdown",
   "metadata": {},
   "source": [
    "- The graph shows that Cessna, Piper, and Beech recorded over 2000 accidents, therefore they are the most common aircrafts."
   ]
  },
  {
   "cell_type": "markdown",
   "metadata": {},
   "source": [
    "#### 2. Level of Damage of an Aircraft after an accident"
   ]
  },
  {
   "cell_type": "code",
   "execution_count": 359,
   "metadata": {},
   "outputs": [
    {
     "data": {
      "image/png": "[encoded data removed]",
      "text/plain": [
       "<Figure size 1000x500 with 1 Axes>"
      ]
     },
     "metadata": {},
     "output_type": "display_data"
    }
   ],
   "source": [
    "plt.figure(figsize=(10,5))\n",
    "sns.countplot(data=df_Aviation_Risk_Analysis_Data, x='Aircraft.damage', order=df_Aviation_Risk_Analysis_Data['Aircraft.damage'].value_counts().index)\n",
    "plt.title(\"Accidents by Aircraft Damage Level\")\n",
    "plt.ylabel(\"Number of Damaged Aircrafts\")\n",
    "plt.xlabel(\"Level of Damage\")\n",
    "plt.show()"
   ]
  },
  {
   "cell_type": "markdown",
   "metadata": {},
   "source": [
    "- majority of the aircrafts ended in substantial damages. On the other hand not all were totaly damaged while very few had minor damages."
   ]
  },
  {
   "cell_type": "markdown",
   "metadata": {},
   "source": [
    "#### 3. Impact of Weather on Accidents"
   ]
  },
  {
   "cell_type": "code",
   "execution_count": 360,
   "metadata": {},
   "outputs": [
    {
     "data": {
      "image/png": "[encoded data removed]",
      "text/plain": [
       "<Figure size 1000x500 with 1 Axes>"
      ]
     },
     "metadata": {},
     "output_type": "display_data"
    }
   ],
   "source": [
    "weather_condition_accidents_counts = df_Aviation_Risk_Analysis_Data['Weather.Condition'].value_counts().to_frame()\n",
    "\n",
    "plt.figure(figsize=(10,5))\n",
    "sns.barplot(data=weather_condition_accidents_counts ,x='Weather.Condition', y=weather_condition_accidents_counts.columns[0])\n",
    "plt.title('Accidents by Weather Condition')\n",
    "plt.xlabel('Weather')\n",
    "plt.ylabel('Number of Accidents')\n",
    "plt.show()"
   ]
  },
  {
   "cell_type": "markdown",
   "metadata": {},
   "source": [
    "- Many accidents are experienced during VMC"
   ]
  },
  {
   "cell_type": "markdown",
   "metadata": {},
   "source": [
    "#### 4. Accidents by Engine Types"
   ]
  },
  {
   "cell_type": "code",
   "execution_count": 361,
   "metadata": {},
   "outputs": [
    {
     "data": {
      "image/png": "[encoded data removed]",
      "text/plain": [
       "<Figure size 1000x500 with 1 Axes>"
      ]
     },
     "metadata": {},
     "output_type": "display_data"
    }
   ],
   "source": [
    "engine_counts = df_Aviation_Risk_Analysis_Data['Engine.Type'].value_counts().to_frame()\n",
    "plt.figure(figsize = (10,5))\n",
    "sns.barplot(data=engine_counts, x='Engine.Type', y=engine_counts.columns[0])\n",
    "plt.title('Accidents Related to Engine Types')\n",
    "plt.ylabel('Number of Accidents')\n",
    "plt.xlabel('Type of Engine')\n",
    "plt.xticks(rotation=90)\n",
    "plt.show()"
   ]
  },
  {
   "cell_type": "markdown",
   "metadata": {},
   "source": [
    "- Reciprocating Engines caused the most number of accidents, on the other hand, Turbo Shafts, Turbo Prop, Turbo Fan and Turbo Jet registered minimal accidents.\n",
    "- Small piston planes use use reciprocating engine while Turbofan and Turbo Jet Engines are used in business jets. "
   ]
  },
  {
   "cell_type": "markdown",
   "metadata": {},
   "source": [
    "#### 5. Analysis by Injury Severity"
   ]
  },
  {
   "cell_type": "code",
   "execution_count": 362,
   "metadata": {},
   "outputs": [
    {
     "data": {
      "image/png": "[encoded data removed]",
      "text/plain": [
       "<Figure size 1000x500 with 1 Axes>"
      ]
     },
     "metadata": {},
     "output_type": "display_data"
    }
   ],
   "source": [
    "# Injury distribution\n",
    "injury_severity = df_Aviation_Risk_Analysis_Data[['Total.Fatal.Injuries', 'Total.Serious.Injuries', 'Total.Minor.Injuries',]].sum()\n",
    "\n",
    "injury_severity.plot(kind='bar', figsize=(10,5))\n",
    "plt.title('Injury Severity in Aviation Accidents')\n",
    "plt.ylabel('Number of Injuries')\n",
    "plt.xlabel('Injury Severity')\n",
    "plt.xticks(rotation=0)\n",
    "plt.show()"
   ]
  },
  {
   "cell_type": "markdown",
   "metadata": {},
   "source": [
    "#### 6. Analysis by Pupose of Flight"
   ]
  },
  {
   "cell_type": "code",
   "execution_count": 363,
   "metadata": {},
   "outputs": [
    {
     "data": {
      "image/png": "[encoded data removed]",
      "text/plain": [
       "<Figure size 1000x500 with 1 Axes>"
      ]
     },
     "metadata": {},
     "output_type": "display_data"
    }
   ],
   "source": [
    "purpose_of_flight_counts = df_Aviation_Risk_Analysis_Data['Purpose.of.flight'].value_counts().to_frame()\n",
    "\n",
    "plt.figure(figsize=(10,5))\n",
    "sns.barplot(data=purpose_of_flight_counts, x='Purpose.of.flight', y=purpose_of_flight_counts.columns[0])\n",
    "plt.title('Accidents by Purpose of Flight')\n",
    "plt.ylabel('Number of Accidents')\n",
    "plt.xlabel('Purpose of Fiight')\n",
    "plt.xticks(rotation=90)\n",
    "plt.show()"
   ]
  },
  {
   "cell_type": "markdown",
   "metadata": {},
   "source": [
    "- More accidents are experienced when the purpose is to fly the aircraft personally. This could be associated to the fact that private pilots are not professional and tend to fly cassually and carelessly"
   ]
  },
  {
   "cell_type": "markdown",
   "metadata": {},
   "source": [
    "#### 7. Analysis by Phase of FLight"
   ]
  },
  {
   "cell_type": "code",
   "execution_count": 364,
   "metadata": {},
   "outputs": [
    {
     "data": {
      "image/png": "[encoded data removed]",
      "text/plain": [
       "<Figure size 1000x500 with 1 Axes>"
      ]
     },
     "metadata": {},
     "output_type": "display_data"
    }
   ],
   "source": [
    "phase_of_flights_counts = df_Aviation_Risk_Analysis_Data['Broad.phase.of.flight'].value_counts().to_frame()\n",
    "\n",
    "plt.figure(figsize=(10,5))\n",
    "sns.barplot(data=phase_of_flights_counts, x='Broad.phase.of.flight', y=phase_of_flights_counts.columns[0],)\n",
    "plt.title('Accidents by Phase of Flight')\n",
    "plt.ylabel('Number of Accidents')\n",
    "plt.xlabel('Broad Phase of Flight')\n",
    "plt.xticks(rotation=90)\n",
    "plt.show()"
   ]
  },
  {
   "cell_type": "code",
   "execution_count": 365,
   "metadata": {},
   "outputs": [],
   "source": [
    "#Export dataframe to csv for visualization using Tableau\n",
    "df_Aviation_Risk_Analysis_Data.to_csv('data/cleaned_aviation_data.csv', index=False)"
   ]
  },
  {
   "cell_type": "markdown",
   "metadata": {},
   "source": [
    "# Recommendations\n",
    "- Turbofan Engines which are mostly used for commercial aircrafts caused fewer accidents compared to reciprocating which are primarily piston based and commonly used for small jets. Therefore the organization should consider Purchasing Turbo Engines. On the other hand Engines like Electric and LR and Hybrid Rocket recorded low accidents. They caould also be considered\n",
    "- It is important to know that many accidents in the aviation sector occur during landing and takeoff. This means that the organization should consider training their pilots frequetly not only on safety procedures but also profeciency and keenness.\n",
    "- More accidents are experienced when the purpose is to fly the aircraft personally. This could be associated to the fact that private pilots are not professional and tend to fly cassually and carelessly. The organization should enact rules that will allow private customers to be flown by a professional pilot provoded by the organization."
   ]
  },
  {
   "cell_type": "code",
   "execution_count": null,
   "metadata": {},
   "outputs": [],
   "source": []
  }
 ],
 "metadata": {
  "kernelspec": {
   "display_name": "learn-env",
   "language": "python",
   "name": "python3"
  },
  "language_info": {
   "codemirror_mode": {
    "name": "ipython",
    "version": 3
   },
   "file_extension": ".py",
   "mimetype": "text/x-python",
   "name": "python",
   "nbconvert_exporter": "python",
   "pygments_lexer": "ipython3",
   "version": "3.13.2"
  }
 },
 "nbformat": 4,
 "nbformat_minor": 2
}
